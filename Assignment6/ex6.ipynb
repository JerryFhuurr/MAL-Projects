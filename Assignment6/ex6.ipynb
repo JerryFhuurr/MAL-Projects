{
 "cells": [
  {
   "cell_type": "markdown",
   "metadata": {},
   "source": [
    "**Load data**"
   ]
  },
  {
   "cell_type": "code",
   "execution_count": 1,
   "metadata": {},
   "outputs": [],
   "source": [
    "import numpy as np\n",
    "\n",
    "# Load XSound.npy\n",
    "XSound = np.load('XSound.npy')\n",
    "\n",
    "# Load YSound.npy\n",
    "YSound = np.load('YSound.npy')"
   ]
  },
  {
   "cell_type": "markdown",
   "metadata": {},
   "source": [
    "**Train network**"
   ]
  },
  {
   "cell_type": "code",
   "execution_count": 14,
   "metadata": {},
   "outputs": [
    {
     "name": "stdout",
     "output_type": "stream",
     "text": [
      "Epoch 1/10\n",
      "345/345 [==============================] - 8s 24ms/step - loss: 0.5633 - accuracy: 0.7934 - val_loss: 0.3495 - val_accuracy: 0.8806\n",
      "Epoch 2/10\n",
      "345/345 [==============================] - 8s 24ms/step - loss: 0.2886 - accuracy: 0.8965 - val_loss: 0.3079 - val_accuracy: 0.8962\n",
      "Epoch 3/10\n",
      "345/345 [==============================] - 8s 23ms/step - loss: 0.1895 - accuracy: 0.9354 - val_loss: 0.2583 - val_accuracy: 0.9208\n",
      "Epoch 4/10\n",
      "345/345 [==============================] - 8s 23ms/step - loss: 0.1351 - accuracy: 0.9533 - val_loss: 0.2138 - val_accuracy: 0.9314\n",
      "Epoch 5/10\n",
      "345/345 [==============================] - 8s 23ms/step - loss: 0.1001 - accuracy: 0.9648 - val_loss: 0.2375 - val_accuracy: 0.9310\n",
      "Epoch 6/10\n",
      "345/345 [==============================] - 8s 23ms/step - loss: 0.0701 - accuracy: 0.9762 - val_loss: 0.2645 - val_accuracy: 0.9263\n",
      "Epoch 7/10\n",
      "345/345 [==============================] - 8s 24ms/step - loss: 0.0632 - accuracy: 0.9795 - val_loss: 0.2702 - val_accuracy: 0.9318\n",
      "Epoch 8/10\n",
      "345/345 [==============================] - 8s 23ms/step - loss: 0.0508 - accuracy: 0.9823 - val_loss: 0.3272 - val_accuracy: 0.9284\n",
      "Epoch 9/10\n",
      "345/345 [==============================] - 8s 23ms/step - loss: 0.0687 - accuracy: 0.9797 - val_loss: 0.3149 - val_accuracy: 0.9339\n",
      "Epoch 10/10\n",
      "345/345 [==============================] - 8s 24ms/step - loss: 0.0427 - accuracy: 0.9880 - val_loss: 0.3144 - val_accuracy: 0.9394\n",
      "74/74 [==============================] - 1s 7ms/step - loss: 0.2275 - accuracy: 0.9462\n",
      "Test accuracy: 0.9462092518806458\n"
     ]
    },
    {
     "name": "stderr",
     "output_type": "stream",
     "text": [
      "f:\\Coding\\Env\\python\\lib\\site-packages\\keras\\src\\engine\\training.py:3079: UserWarning: You are saving your model as an HDF5 file via `model.save()`. This file format is considered legacy. We recommend using instead the native Keras format, e.g. `model.save('my_model.keras')`.\n",
      "  saving_api.save_model(\n"
     ]
    }
   ],
   "source": [
    "import tensorflow as tf\n",
    "from tensorflow import keras\n",
    "from tensorflow.keras import layers\n",
    "from sklearn.model_selection import train_test_split\n",
    "\n",
    "# Split the data into training (70%), validation (15%), and test (15%) sets\n",
    "X_train, X_temp, Y_train, Y_temp = train_test_split(XSound, YSound, test_size=0.3, random_state=42)\n",
    "X_valid, X_test, Y_valid, Y_test = train_test_split(X_temp, Y_temp, test_size=0.5, random_state=42)\n",
    "\n",
    "# You can adjust the test_size and random_state as needed\n",
    "\n",
    "# Reshape the data if necessary (required for CNN)\n",
    "X_train = X_train.reshape(X_train.shape[0], 62, 65, 1)\n",
    "X_valid = X_valid.reshape(X_valid.shape[0], 62, 65, 1)\n",
    "X_test = X_test.reshape(X_test.shape[0], 62, 65, 1)\n",
    "\n",
    "# Define the CNN model\n",
    "model = keras.Sequential([\n",
    "    layers.Conv2D(32, (3, 3), activation='relu', input_shape=(62, 65, 1)),\n",
    "    layers.MaxPooling2D((2, 2)),\n",
    "    layers.Conv2D(64, (3, 3), activation='relu'),\n",
    "    layers.MaxPooling2D((2, 2)),\n",
    "    layers.Flatten(),\n",
    "    layers.Dense(64, activation='relu'),\n",
    "    layers.Dense(4, activation='softmax')  # 4 classes for \"Yes,\" \"No,\" \"Stop,\" and \"Go\"\n",
    "])\n",
    "\n",
    "# Compile the model\n",
    "model.compile(optimizer='adam', loss='sparse_categorical_crossentropy', metrics=['accuracy'])\n",
    "\n",
    "# Training the model\n",
    "history = model.fit(X_train, Y_train, epochs=10, validation_data=(X_valid, Y_valid))\n",
    "\n",
    "# Evaluate the model on the test set\n",
    "test_loss, test_accuracy = model.evaluate(X_test, Y_test)\n",
    "print(f'Test accuracy: {test_accuracy}')\n"
   ]
  },
  {
   "cell_type": "markdown",
   "metadata": {},
   "source": [
    "CNNs can be suitable for audio classification, especially when the data is represented as spectrograms. However, the suitability depends on the specific characteristics of the dataset and the problem at hand. It's essential to consider factors like context, feature engineering, and model size when deciding on the architecture for audio classification. In some cases, hybrid models or attention-based models might offer a better solution for capturing the temporal aspects of audio data."
   ]
  },
  {
   "cell_type": "markdown",
   "metadata": {},
   "source": [
    "**Classify instances of the test set using your models**"
   ]
  },
  {
   "cell_type": "code",
   "execution_count": 15,
   "metadata": {},
   "outputs": [
    {
     "name": "stdout",
     "output_type": "stream",
     "text": [
      "74/74 [==============================] - 1s 7ms/step\n"
     ]
    }
   ],
   "source": [
    "y_pred = model.predict(X_test)\n",
    "y_pred_classes = np.argmax(y_pred, axis=1)"
   ]
  },
  {
   "cell_type": "code",
   "execution_count": 16,
   "metadata": {},
   "outputs": [
    {
     "data": {
      "image/png": "[encoded data removed]",
      "text/plain": [
       "<Figure size 800x600 with 2 Axes>"
      ]
     },
     "metadata": {},
     "output_type": "display_data"
    },
    {
     "name": "stdout",
     "output_type": "stream",
     "text": [
      "              precision    recall  f1-score   support\n",
      "\n",
      "           0       0.92      0.91      0.92       586\n",
      "           1       0.92      0.92      0.92       581\n",
      "           2       0.96      0.96      0.96       553\n",
      "           3       0.98      0.98      0.98       641\n",
      "\n",
      "    accuracy                           0.95      2361\n",
      "   macro avg       0.95      0.95      0.95      2361\n",
      "weighted avg       0.95      0.95      0.95      2361\n",
      "\n"
     ]
    }
   ],
   "source": [
    "from sklearn.metrics import confusion_matrix, classification_report\n",
    "import seaborn as sns\n",
    "import matplotlib.pyplot as plt\n",
    "\n",
    "# Calculate the confusion matrix\n",
    "conf_matrix = confusion_matrix(Y_test, y_pred_classes)\n",
    "\n",
    "# Visualize the confusion matrix\n",
    "plt.figure(figsize=(8, 6))\n",
    "sns.heatmap(conf_matrix, annot=True, fmt=\"d\", cmap=\"Blues\")\n",
    "plt.xlabel(\"Predicted\")\n",
    "plt.ylabel(\"True\")\n",
    "plt.title(\"Confusion Matrix\")\n",
    "plt.show()\n",
    "\n",
    "# Calculate other classification metrics\n",
    "report = classification_report(Y_test, y_pred_classes)\n",
    "print(report)"
   ]
  },
  {
   "cell_type": "markdown",
   "metadata": {},
   "source": [
    "# Choose one other algorithm "
   ]
  },
  {
   "cell_type": "markdown",
   "metadata": {},
   "source": [
    "*Training an LSTM Model*"
   ]
  },
  {
   "cell_type": "code",
   "execution_count": 17,
   "metadata": {},
   "outputs": [
    {
     "name": "stdout",
     "output_type": "stream",
     "text": [
      "Epoch 1/10\n",
      "345/345 [==============================] - 19s 50ms/step - loss: 0.6172 - accuracy: 0.7421 - val_loss: 0.4245 - val_accuracy: 0.8463\n",
      "Epoch 2/10\n",
      "345/345 [==============================] - 16s 47ms/step - loss: 0.3563 - accuracy: 0.8675 - val_loss: 0.3085 - val_accuracy: 0.8818\n",
      "Epoch 3/10\n",
      "345/345 [==============================] - 17s 48ms/step - loss: 0.2573 - accuracy: 0.9086 - val_loss: 0.2123 - val_accuracy: 0.9310\n",
      "Epoch 4/10\n",
      "345/345 [==============================] - 17s 48ms/step - loss: 0.1897 - accuracy: 0.9339 - val_loss: 0.1796 - val_accuracy: 0.9369\n",
      "Epoch 5/10\n",
      "345/345 [==============================] - 17s 48ms/step - loss: 0.1547 - accuracy: 0.9463 - val_loss: 0.1653 - val_accuracy: 0.9437\n",
      "Epoch 6/10\n",
      "345/345 [==============================] - 17s 48ms/step - loss: 0.1242 - accuracy: 0.9571 - val_loss: 0.1588 - val_accuracy: 0.9437\n",
      "Epoch 7/10\n",
      "345/345 [==============================] - 17s 49ms/step - loss: 0.1130 - accuracy: 0.9600 - val_loss: 0.1503 - val_accuracy: 0.9479\n",
      "Epoch 8/10\n",
      "345/345 [==============================] - 17s 49ms/step - loss: 0.0951 - accuracy: 0.9677 - val_loss: 0.1560 - val_accuracy: 0.9466\n",
      "Epoch 9/10\n",
      "345/345 [==============================] - 17s 49ms/step - loss: 0.0835 - accuracy: 0.9700 - val_loss: 0.1149 - val_accuracy: 0.9602\n",
      "Epoch 10/10\n",
      "345/345 [==============================] - 17s 49ms/step - loss: 0.0703 - accuracy: 0.9771 - val_loss: 0.1259 - val_accuracy: 0.9602\n",
      "74/74 [==============================] - 1s 15ms/step - loss: 0.1353 - accuracy: 0.9521\n",
      "Test accuracy: 0.9521389007568359\n"
     ]
    }
   ],
   "source": [
    "import numpy as np\n",
    "import tensorflow as tf\n",
    "from tensorflow import keras\n",
    "from tensorflow.keras import layers\n",
    "\n",
    "# Assuming you have already loaded and preprocessed the data\n",
    "# Split the data into training, validation, and test sets as shown previously\n",
    "\n",
    "# Create an LSTM model\n",
    "model = keras.Sequential([\n",
    "    layers.LSTM(128, return_sequences=True, input_shape=(62, 65)),\n",
    "    layers.LSTM(128),\n",
    "    layers.Dense(64, activation='relu'),\n",
    "    layers.Dense(4, activation='softmax')  # 4 classes for \"Yes,\" \"No,\" \"Stop,\" and \"Go\"\n",
    "])\n",
    "\n",
    "# Compile the model\n",
    "model.compile(optimizer='adam', loss='sparse_categorical_crossentropy', metrics=['accuracy'])\n",
    "\n",
    "# Train the model\n",
    "history = model.fit(X_train, Y_train, epochs=10, validation_data=(X_valid, Y_valid))\n",
    "\n",
    "# Evaluate the model on the test set\n",
    "test_loss, test_accuracy = model.evaluate(X_test, Y_test)\n",
    "print(f'Test accuracy: {test_accuracy}')"
   ]
  },
  {
   "cell_type": "markdown",
   "metadata": {},
   "source": [
    "*Classify Instances and Draw a Confusion Matrix*"
   ]
  },
  {
   "cell_type": "code",
   "execution_count": 18,
   "metadata": {},
   "outputs": [
    {
     "name": "stdout",
     "output_type": "stream",
     "text": [
      "74/74 [==============================] - 1s 15ms/step\n"
     ]
    },
    {
     "data": {
      "image/png": "[encoded data removed]",
      "text/plain": [
       "<Figure size 800x600 with 2 Axes>"
      ]
     },
     "metadata": {},
     "output_type": "display_data"
    },
    {
     "name": "stdout",
     "output_type": "stream",
     "text": [
      "              precision    recall  f1-score   support\n",
      "\n",
      "           0       0.95      0.91      0.93       586\n",
      "           1       0.93      0.94      0.94       581\n",
      "           2       0.95      0.97      0.96       553\n",
      "           3       0.97      0.98      0.97       641\n",
      "\n",
      "    accuracy                           0.95      2361\n",
      "   macro avg       0.95      0.95      0.95      2361\n",
      "weighted avg       0.95      0.95      0.95      2361\n",
      "\n"
     ]
    }
   ],
   "source": [
    "# Make predictions\n",
    "y_pred = model.predict(X_test)\n",
    "\n",
    "# Convert predictions to class labels\n",
    "y_pred_classes = np.argmax(y_pred, axis=1)\n",
    "\n",
    "# Calculate the confusion matrix\n",
    "conf_matrix = confusion_matrix(Y_test, y_pred_classes)\n",
    "\n",
    "# Visualize the confusion matrix\n",
    "plt.figure(figsize=(8, 6))\n",
    "sns.heatmap(conf_matrix, annot=True, fmt=\"d\", cmap=\"Blues\")\n",
    "plt.xlabel(\"Predicted\")\n",
    "plt.ylabel(\"True\")\n",
    "plt.title(\"Confusion Matrix (LSTM)\")\n",
    "plt.show()\n",
    "\n",
    "# Calculate other classification metrics\n",
    "report = classification_report(Y_test, y_pred_classes)\n",
    "print(report)\n"
   ]
  },
  {
   "cell_type": "markdown",
   "metadata": {},
   "source": [
    "1.  LSTMs are excellent at capturing long-term dependencies and temporal patterns in sequential data, making them well-suited for audio data where understanding the context over time is crucial. They can capture features related to the sequence of audio samples and variations in speech over time. |  CNNs, when applied to audio spectrograms, capture spatial patterns in the time-frequency domain. They excel at identifying spectral features, such as frequency components and local patterns, but may not capture long-term dependencies in audio as effectively as LSTMs.\n",
    "2. LSTMs work directly with sequential data and can handle variable-length audio sequences. They learn the temporal relationships between audio samples, which can be advantageous for tasks that involve understanding spoken language and recognizing words based on the sequence of sound. | CNNs require fixed-size input (e.g., spectrograms of fixed dimensions) and operate on localized spatial patterns. If the model architecture doesn't include recurrent components, it might struggle to capture long-range dependencies in the audio data.\n",
    "3. LSTMs often require more data to generalize well, especially if the audio data has complex and varied temporal patterns. If the dataset is limited, an LSTM model may overfit. | CNNs are known to work well with smaller datasets, and their ability to capture local patterns can help mitigate overfitting."
   ]
  }
 ],
 "metadata": {
  "kernelspec": {
   "display_name": "Python 3",
   "language": "python",
   "name": "python3"
  },
  "language_info": {
   "codemirror_mode": {
    "name": "ipython",
    "version": 3
   },
   "file_extension": ".py",
   "mimetype": "text/x-python",
   "name": "python",
   "nbconvert_exporter": "python",
   "pygments_lexer": "ipython3",
   "version": "3.10.10"
  }
 },
 "nbformat": 4,
 "nbformat_minor": 2
}
